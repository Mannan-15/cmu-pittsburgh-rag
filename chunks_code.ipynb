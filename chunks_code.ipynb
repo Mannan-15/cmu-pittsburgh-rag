{
  "nbformat": 4,
  "nbformat_minor": 0,
  "metadata": {
    "colab": {
      "provenance": []
    },
    "kernelspec": {
      "name": "python3",
      "display_name": "Python 3"
    },
    "language_info": {
      "name": "python"
    }
  },
  "cells": [
    {
      "cell_type": "code",
      "execution_count": null,
      "metadata": {
        "id": "A1yQXY13BlJi"
      },
      "outputs": [],
      "source": [
        "pip install langchain"
      ]
    },
    {
      "cell_type": "code",
      "source": [
        "from langchain_text_splitters import RecursiveCharacterTextSplitter\n",
        "from langchain_core.documents import Document\n",
        "import json\n",
        "\n",
        "splitter = RecursiveCharacterTextSplitter(\n",
        "    chunk_size = 512,\n",
        "    chunk_overlap = 50,\n",
        "    length_function = len,\n",
        "    is_separator_regex = False\n",
        ")\n",
        "\n",
        "with open(r\"/content/data.json\", 'r', encoding='utf-8') as f:\n",
        "    dataset = json.load(f)\n",
        "\n",
        "chunks = []\n",
        "\n",
        "for k, v in dataset.items():\n",
        "  if v is not None:\n",
        "    if isinstance(v, list):\n",
        "      v = \" \".join(v)\n",
        "    docs = splitter.create_documents([v])\n",
        "    for doc in docs:\n",
        "      doc.metadata['source'] = k\n",
        "    chunks.extend(docs)\n",
        "\n",
        "print(len(chunks))"
      ],
      "metadata": {
        "colab": {
          "base_uri": "https://localhost:8080/"
        },
        "id": "8zNq2qupBpdR",
        "outputId": "caf28c19-2da2-4fd1-c023-a50e683777ac"
      },
      "execution_count": 33,
      "outputs": [
        {
          "output_type": "stream",
          "name": "stdout",
          "text": [
            "2729\n"
          ]
        }
      ]
    },
    {
      "cell_type": "code",
      "source": [
        "chunks[0]"
      ],
      "metadata": {
        "colab": {
          "base_uri": "https://localhost:8080/"
        },
        "id": "Nkw8dBuuB3T-",
        "outputId": "5e56e6d4-cbd4-4b35-fd23-d86cd6f4ce5d"
      },
      "execution_count": 34,
      "outputs": [
        {
          "output_type": "execute_result",
          "data": {
            "text/plain": [
              "Document(metadata={'source': 'https://en.wikipedia.org/wiki/Pittsburgh'}, page_content='Second-most populous city in Pennsylvania, U.S.\\nThis article is about the city in Pennsylvania. For the region, see\\nGreater Pittsburgh\\n. For other uses, see\\nPittsburgh (disambiguation)\\n.\\nNot to be confused with\\nPittsburg\\n.\\nCity in Pennsylvania, United States\\nPittsburgh\\nDionde:gâ\\n(\\nSeneca\\n)\\nCity\\nDowntown Pittsburgh\\nDuquesne Incline\\nPhipps Conservatory and Botanical Gardens\\nLawrenceville\\nPNC Park\\nCathedral of Learning\\nCarnegie Museums of Pittsburgh\\nFlag\\nSeal\\nCoat of arms\\nNickname(s):')"
            ]
          },
          "metadata": {},
          "execution_count": 34
        }
      ]
    },
    {
      "cell_type": "code",
      "source": [
        "chunks[1]"
      ],
      "metadata": {
        "colab": {
          "base_uri": "https://localhost:8080/"
        },
        "id": "ybiewltIDwbS",
        "outputId": "8b621ad8-d965-4a76-f942-67f3f897b81a"
      },
      "execution_count": 35,
      "outputs": [
        {
          "output_type": "execute_result",
          "data": {
            "text/plain": [
              "Document(metadata={'source': 'https://en.wikipedia.org/wiki/Pittsburgh'}, page_content='Flag\\nSeal\\nCoat of arms\\nNickname(s):\\nCity of Bridges, Steel City,\\nCity of Champions, The \\'Burgh, The Paris of Appalachia\\nMotto:\\nBenigno Numine\\n(\"With the benevolent deity\")\\nInteractive map of Pittsburgh\\nPittsburgh\\nShow map of Pennsylvania\\nPittsburgh\\nShow map of the United States\\nCoordinates:\\n40°26′23″N\\n79°58′35″W\\n\\ufeff / \\ufeff\\n40.43972°N 79.97639°W\\n\\ufeff /\\n40.43972; -79.97639\\nCountry\\nUnited States\\nState\\nPennsylvania\\nCounty\\nAllegheny\\nFounded\\nNovember\\xa027, 1758\\n; 266 years ago\\n(\\n1758-11-27\\n)\\n(fort)\\nMunicipal incorporation')"
            ]
          },
          "metadata": {},
          "execution_count": 35
        }
      ]
    },
    {
      "cell_type": "code",
      "source": [
        "chunks[222]"
      ],
      "metadata": {
        "colab": {
          "base_uri": "https://localhost:8080/"
        },
        "id": "t1JVr8E7EBW5",
        "outputId": "07d5242b-eab3-43be-cd5a-cd0550f067d8"
      },
      "execution_count": 52,
      "outputs": [
        {
          "output_type": "execute_result",
          "data": {
            "text/plain": [
              "Document(metadata={'source': 'https://en.wikipedia.org/wiki/History_of_Pittsburgh'}, page_content='Second-most populous city in Pennsylvania, U.S.\\nThis article is about the city in Pennsylvania. For the region, see\\nGreater Pittsburgh\\n. For other uses, see\\nPittsburgh (disambiguation)\\n.\\nNot to be confused with\\nPittsburg\\n.\\nCity in Pennsylvania, United States\\nPittsburgh\\nDionde:gâ\\n(\\nSeneca\\n)\\nCity\\nDowntown Pittsburgh\\nDuquesne Incline\\nPhipps Conservatory and Botanical Gardens\\nLawrenceville\\nPNC Park\\nCathedral of Learning\\nCarnegie Museums of Pittsburgh\\nFlag\\nSeal\\nCoat of arms\\nNickname(s):')"
            ]
          },
          "metadata": {},
          "execution_count": 52
        }
      ]
    },
    {
      "cell_type": "code",
      "source": [
        "data_to_save = [\n",
        "    {\n",
        "        \"page_content\": chunk.page_content,\n",
        "        \"metadata\": chunk.metadata\n",
        "    }\n",
        "    for chunk in chunks\n",
        "]\n",
        "\n",
        "output_file_path = 'chunks.json'\n",
        "\n",
        "try:\n",
        "    with open(output_file_path, 'w', encoding='utf-8') as f:\n",
        "        json.dump(data_to_save, f, indent=2, ensure_ascii=False)\n",
        "\n",
        "    print(f\"\\n✅ Successfully saved {len(data_to_save)} chunks to '{output_file_path}'\")\n",
        "\n",
        "except Exception as e:\n",
        "    print(f\"\\n[!] Error saving JSON file: {e}\")"
      ],
      "metadata": {
        "colab": {
          "base_uri": "https://localhost:8080/"
        },
        "id": "MnQbAZ9yHyU6",
        "outputId": "1a8f38bb-514a-430c-d20e-52cff32f3aa9"
      },
      "execution_count": 55,
      "outputs": [
        {
          "output_type": "stream",
          "name": "stdout",
          "text": [
            "\n",
            "✅ Successfully saved 2729 chunks to 'chunks.json'\n"
          ]
        }
      ]
    }
  ]
}